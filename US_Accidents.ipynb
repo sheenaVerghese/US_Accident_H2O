{
 "cells": [
  {
   "cell_type": "code",
   "execution_count": null,
   "id": "056e8611",
   "metadata": {
    "scrolled": true
   },
   "outputs": [],
   "source": [
    "import pandas as pd\n",
    "import numpy as np\n",
    "import seaborn as sns\n",
    "import sqlite3\n",
    "from matplotlib import pyplot as plt\n",
    "from sklearn.metrics import mean_squared_error,r2_score"
   ]
  },
  {
   "cell_type": "code",
   "execution_count": null,
   "id": "cac86b30",
   "metadata": {},
   "outputs": [],
   "source": [
    "accidents = pd.read_csv('./US_Accidents_March23.csv')\n",
    "#The code below is done only because my laptop cannot handle the sheer volume of data. \n",
    "#In a normal situation this would not occur.\n",
    "accidents = accidents.head(2000)"
   ]
  },
  {
   "cell_type": "code",
   "execution_count": null,
   "id": "404129fe",
   "metadata": {},
   "outputs": [],
   "source": [
    "accidents.head()"
   ]
  },
  {
   "cell_type": "code",
   "execution_count": null,
   "id": "24b10c41",
   "metadata": {
    "scrolled": true
   },
   "outputs": [],
   "source": [
    "accidents.describe()"
   ]
  },
  {
   "cell_type": "code",
   "execution_count": null,
   "id": "fdf315ea",
   "metadata": {},
   "outputs": [],
   "source": [
    "%load_ext sql\n",
    "connection = sqlite3.connect('helcim.db')\n",
    "accidents.to_sql(name = 'accidents', con = connection, if_exists =\n",
    "'replace')\n",
    "# to check if connection works, run\n",
    "pd.read_sql_query('select count(*) from accidents', connection)\n"
   ]
  },
  {
   "cell_type": "code",
   "execution_count": null,
   "id": "daafcf55",
   "metadata": {},
   "outputs": [],
   "source": [
    "#Extract data into df (Q2)\n",
    "df =pd.read_sql_query(\"Select * from accidents\",connection)\n",
    "df.describe()"
   ]
  },
  {
   "cell_type": "code",
   "execution_count": null,
   "id": "a39c2987",
   "metadata": {},
   "outputs": [],
   "source": [
    "df.info()\n",
    "#Q2\n",
    "# Initial Insight- Data set has many missing values. It also has some data integrity problem (explained in the pdf documentation).\n",
    "# There is a datetime component to the dataset, which makes me think I would need to split the data respecting the dates.\n",
    "# The dataset contains some data from the end of February 2023.\n",
    "# It has many samples which is ideal for a statistical model. But it also contains many values within each variable (eg Weather_Condition is categorical but not a fixed value)\n"
   ]
  },
  {
   "cell_type": "code",
   "execution_count": null,
   "id": "5f7ea155",
   "metadata": {},
   "outputs": [],
   "source": [
    "#Explanation of each of the query can be found within the pdf documentation.\n",
    "# Rename of features explained in documentation\n",
    "database_query =\"\"\"\n",
    "DELETE FROM accidents WHERE Timezone ='' or Timezone IS NULL or Timezone like 'K%' or Timezone like 'k%' or Timezone = 'None';\n",
    "UPDATE accidents SET Timezone = 'US/Central' WHERE Timezone = 'Central' or Timezone ='us/central' or Timezone='central';\n",
    "UPDATE accidents SET Timezone = 'US/Eastern' WHERE Timezone = 'Eastern' or Timezone ='us/eastern'or Timezone='eastern';\n",
    "UPDATE accidents SET Timezone = 'US/Pacific' WHERE Timezone = 'Pacific' or Timezone ='us/pacific'or Timezone='pacific';\n",
    "UPDATE accidents SET Timezone = 'US/Mountain' WHERE Timezone = 'Mountain' or Timezone ='us/mountain'or Timezone='mountain';\n",
    "ALTER TABLE accidents ADD COLUMN Timezone_UTC REAL;\n",
    "UPDATE accidents SET Timezone_UTC = -5 WHERE Timezone ='US/Eastern';\n",
    "UPDATE accidents SET Timezone_UTC = -6 WHERE Timezone ='US/Central';\n",
    "UPDATE accidents SET Timezone_UTC = -7 WHERE Timezone ='US/Mountain';\n",
    "UPDATE accidents SET Timezone_UTC = -8 WHERE Timezone ='US/Pacific';\n",
    "ALTER TABLE accidents ADD COLUMN Min_Temp REAL;\n",
    "ALTER TABLE accidents ADD COLUMN Max_Temp REAL;\n",
    "ALTER TABLE accidents ADD COLUMN Median_Temp REAL;\n",
    "ALTER TABLE accidents ADD COLUMN Avg_Temp REAL;\n",
    "ALTER TABLE accidents ADD COLUMN Temp_Difference REAL;\n",
    "ALTER TABLE accidents RENAME COLUMN 'Temperature_Range(F)' TO Temperature_Range_F;\n",
    "ALTER TABLE accidents RENAME COLUMN 'Humidity(%)' TO Humidity_Percentage;\n",
    "ALTER TABLE accidents RENAME COLUMN 'Precipitation(in)' to Precipitation_in;\n",
    "ALTER TABLE accidents RENAME COLUMN 'Wind_Chill(F)' to Wind_Chill_F;\n",
    "ALTER TABLE accidents RENAME COLUMN 'Pressure(in)' to Pressure_in;\n",
    "ALTER TABLE accidents RENAME COLUMN 'Visibility(mi)' to Visibility_mi;\n",
    "ALTER TABLE accidents RENAME COLUMN 'Wind_Speed(mph)' to Wind_Speed_mph;\n",
    "ALTER TABLE accidents RENAME COLUMN 'Distance(mi)' to Distance_mi;\n",
    "UPDATE accidents SET Min_Temp = SUBSTR(TRIM (Temperature_Range_F),1,INSTR(TRIM(Temperature_Range_F),'-')-1);\n",
    "UPDATE accidents SET Max_Temp = SUBSTR(TRIM (Temperature_Range_F),INSTR(TRIM(Temperature_Range_F),'-')+1);\n",
    "UPDATE accidents SET Median_Temp =(Min_Temp+Max_Temp)/2;\n",
    "Update accidents as a1 Set Median_Temp =( Select AVG(a2.Median_Temp) from accidents as a2  where a1.County = a2.County and a1.Weather_Condition =a2.Weather_Condition) where Median_Temp ISNULL;\n",
    "Update accidents as a1 Set Median_Temp =( Select AVG(a2.Median_Temp) from accidents as a2  where a1.County = a2.County) where Median_Temp ISNULL;\n",
    "Update accidents as a1 Set Median_Temp =( Select AVG(a2.Median_Temp) from accidents as a2  where a1.State = a2.State) where Median_Temp ISNULL;\n",
    "Update accidents Set Median_Temp = (Median_Temp-32)*5/9;\n",
    "ALTER TABLE accidents ADD COLUMN Start_Hour Int;\n",
    "Update accidents Set Start_Hour = SUBSTR(TRIM (Start_Time),1,INSTR(TRIM(Start_Time),':')-1);\n",
    "DELETE FROM accidents WHERE Start_Hour>24;\n",
    "Update accidents as a1 Set Avg_Temp =( Select AVG(a2.Median_Temp) from accidents as a2  where a1.City = a2.City and a1.Start_Hour=a2.Start_Hour);\n",
    "Update accidents Set Temp_Difference = Median_Temp - Avg_Temp;\n",
    "ALTER TABLE accidents ADD COLUMN Road_Utility Int;\n",
    "Update accidents Set Road_Utility = Amenity+Bump+Crossing+Give_Way+Junction+No_Exit+Railway+Roundabout+Station+Stop+Traffic_Calming+Traffic_Signal+Turning_Loop;\n",
    "\n",
    "\n",
    "\n",
    "\"\"\""
   ]
  },
  {
   "cell_type": "code",
   "execution_count": null,
   "id": "43c5b4f3",
   "metadata": {},
   "outputs": [],
   "source": [
    "connection.executescript(database_query)"
   ]
  },
  {
   "cell_type": "code",
   "execution_count": null,
   "id": "2f4e7d40",
   "metadata": {},
   "outputs": [],
   "source": [
    "connection.commit()"
   ]
  },
  {
   "cell_type": "code",
   "execution_count": null,
   "id": "07598020",
   "metadata": {},
   "outputs": [],
   "source": [
    "df =pd.read_sql_query(\"Select * from accidents\",connection)"
   ]
  },
  {
   "cell_type": "code",
   "execution_count": null,
   "id": "30786097",
   "metadata": {},
   "outputs": [],
   "source": [
    "connection.close()"
   ]
  },
  {
   "cell_type": "code",
   "execution_count": null,
   "id": "4c54628c",
   "metadata": {},
   "outputs": [],
   "source": [
    "df.describe()"
   ]
  },
  {
   "cell_type": "code",
   "execution_count": null,
   "id": "441eff97",
   "metadata": {},
   "outputs": [],
   "source": [
    "df.info()"
   ]
  },
  {
   "cell_type": "code",
   "execution_count": null,
   "id": "011ade11",
   "metadata": {},
   "outputs": [],
   "source": [
    "#Convert into datetime format - till seconds (although seconds do not exist in the df)\n",
    "df['Weather_Timestamp']=df['Weather_Timestamp'].astype('datetime64[s]')"
   ]
  },
  {
   "cell_type": "code",
   "execution_count": null,
   "id": "61653dfd",
   "metadata": {},
   "outputs": [],
   "source": [
    "#Split data into dates and times\n",
    "df['Dates'] = pd.to_datetime(df['Weather_Timestamp']).dt.date\n",
    "df['Time'] = pd.to_datetime(df['Weather_Timestamp']).dt.time"
   ]
  },
  {
   "cell_type": "code",
   "execution_count": null,
   "id": "47eef162",
   "metadata": {},
   "outputs": [],
   "source": [
    "#Get count of accidents per county per time\n",
    "df['Count_County_Date'] = df.groupby(['County', 'Dates'])['County'].transform('count')"
   ]
  },
  {
   "cell_type": "code",
   "execution_count": null,
   "id": "d92d0678",
   "metadata": {},
   "outputs": [],
   "source": [
    "#Get count of accidents per state per time\n",
    "df['Count_State_Date'] = df.groupby(['State', 'Dates'])['State'].transform('count')"
   ]
  },
  {
   "cell_type": "code",
   "execution_count": null,
   "id": "81d55b1e",
   "metadata": {
    "scrolled": true
   },
   "outputs": [],
   "source": [
    "fig,ax=plt.subplots(figsize=(20,15))\n",
    "sns.lineplot(x = \"Dates\", y = \"Median_Temp\", data = df,hue='State') "
   ]
  },
  {
   "cell_type": "code",
   "execution_count": null,
   "id": "54becd5a",
   "metadata": {},
   "outputs": [],
   "source": [
    "fig,ax=plt.subplots(figsize=(20,15))\n",
    "sns.lineplot(x = \"Dates\", y = \"Count_County_Date\", data = df,hue='State') "
   ]
  },
  {
   "cell_type": "code",
   "execution_count": null,
   "id": "1843d4ed",
   "metadata": {},
   "outputs": [],
   "source": [
    "fig,ax=plt.subplots(figsize=(20,15))\n",
    "sns.lineplot(x = \"Dates\", y = \"Count_State_Date\", data = df,hue='State') "
   ]
  },
  {
   "cell_type": "code",
   "execution_count": null,
   "id": "1c92b5c6",
   "metadata": {},
   "outputs": [],
   "source": [
    "fig,ax=plt.subplots(figsize=(20,15))\n",
    "sns.lineplot(x = \"Dates\", y = \"Humidity_Percentage\", data = df,hue='State') "
   ]
  },
  {
   "cell_type": "code",
   "execution_count": null,
   "id": "22aae52e",
   "metadata": {},
   "outputs": [],
   "source": [
    "fig,ax=plt.subplots(figsize=(20,15))\n",
    "sns.lineplot(x = \"Dates\", y = \"Precipitation_in\", data = df,hue='State') "
   ]
  },
  {
   "cell_type": "code",
   "execution_count": null,
   "id": "1d857b7b",
   "metadata": {},
   "outputs": [],
   "source": [
    "fig,ax=plt.subplots(figsize=(20,15))\n",
    "sns.lineplot(x = \"Start_Lat\", y = \"Severity\", data = df) "
   ]
  },
  {
   "cell_type": "code",
   "execution_count": null,
   "id": "27d7bd40",
   "metadata": {},
   "outputs": [],
   "source": [
    "#Uisng regression as the labels are continuous. \n",
    "\n",
    "#Get rid of useless data\n",
    "\n",
    "#Dropping End time. I suspect that the end time >24 could be next day. \n",
    "\n",
    "df =df.drop(['index','Row_Num','ID','Source','Description','End_Time','End_Lng','Time','County','City','Zipcode','Street','Airport_Code','End_Lat'],axis=1)"
   ]
  },
  {
   "cell_type": "code",
   "execution_count": null,
   "id": "a2e94f3c",
   "metadata": {},
   "outputs": [],
   "source": [
    "\n",
    "import sklearn.metrics\n",
    "import h2o\n",
    "from h2o.automl import H2OAutoML"
   ]
  },
  {
   "cell_type": "code",
   "execution_count": null,
   "id": "64cd1240",
   "metadata": {
    "scrolled": true
   },
   "outputs": [],
   "source": [
    "h2o.init(\n",
    "    nthreads=-1,     # number of threads when launching a new H2O server\n",
    "    max_mem_size=12  # in gigabytes\n",
    ")"
   ]
  },
  {
   "cell_type": "code",
   "execution_count": null,
   "id": "cf9805d8",
   "metadata": {},
   "outputs": [],
   "source": [
    "#Need to sort the timestamp so that it is a time series split.\n",
    "df =df.sort_values(by=\"Dates\")"
   ]
  },
  {
   "cell_type": "code",
   "execution_count": null,
   "id": "effa0cea",
   "metadata": {},
   "outputs": [],
   "source": [
    "#Check for missing values\n",
    "round((df.isnull().sum() * 100/ len(df)),2).sort_values(ascending=False)"
   ]
  },
  {
   "cell_type": "code",
   "execution_count": null,
   "id": "57848a4f",
   "metadata": {},
   "outputs": [],
   "source": [
    "#Split data\n",
    "from sklearn.model_selection import train_test_split\n",
    "\n",
    "train, test = train_test_split(df, test_size=0.2)"
   ]
  },
  {
   "cell_type": "code",
   "execution_count": null,
   "id": "b94bd233",
   "metadata": {},
   "outputs": [],
   "source": [
    "#Convert dataset into training and testing (validation) set\n",
    "train =h2o.H2OFrame(train)\n",
    "test = h2o.H2OFrame(test)\n"
   ]
  },
  {
   "cell_type": "code",
   "execution_count": null,
   "id": "f353701f",
   "metadata": {},
   "outputs": [],
   "source": [
    "#Modelling for severity\n",
    "x_Severity=train.columns.remove('Severity')\n",
    "y_Severity=\"Severity\"\n",
    "aml_Severity = H2OAutoML(max_models=10, seed=1)"
   ]
  },
  {
   "cell_type": "code",
   "execution_count": null,
   "id": "a820ea6c",
   "metadata": {},
   "outputs": [],
   "source": [
    "#Cross validation occurs with this code\n",
    "#Code also handles conversion of Severity into nominal data (encoding)\n",
    "aml_Severity.train(x=x_Severity, y=y_Severity, training_frame=train)"
   ]
  },
  {
   "cell_type": "code",
   "execution_count": null,
   "id": "7f7e4d0c",
   "metadata": {},
   "outputs": [],
   "source": [
    "h2o.explain(aml_Severity.leader,train)"
   ]
  },
  {
   "cell_type": "code",
   "execution_count": null,
   "id": "256f9480",
   "metadata": {},
   "outputs": [],
   "source": [
    "test_pred = test.drop(['Severity'],axis=1)\n",
    "preds_Severity = aml_Severity.predict(test_pred)"
   ]
  },
  {
   "cell_type": "code",
   "execution_count": null,
   "id": "6c158b98",
   "metadata": {},
   "outputs": [],
   "source": [
    "\n",
    "y_true=test['Severity'].as_data_frame()\n",
    "y_pred=preds_Severity.as_data_frame()\n",
    "print(\"MSE\",mean_squared_error(y_true,y_pred['predict'].tolist()))\n",
    "print(\"R2_Score\",r2_score(y_true,y_pred))\n"
   ]
  },
  {
   "cell_type": "code",
   "execution_count": null,
   "id": "4b80732f",
   "metadata": {},
   "outputs": [],
   "source": [
    "# Modelling for Distance_mi variable\n",
    "x_Distance=train.columns.remove('Distance_mi')\n",
    "y_Distance=\"Distance_mi\"\n",
    "aml_Distance = H2OAutoML(max_models=10, seed=1)\n",
    "aml_Distance.train(x=x_Distance, y=y_Distance, training_frame=train)"
   ]
  },
  {
   "cell_type": "code",
   "execution_count": null,
   "id": "0736ec71",
   "metadata": {},
   "outputs": [],
   "source": [
    "h2o.explain(aml_Distance.leader,train)"
   ]
  },
  {
   "cell_type": "code",
   "execution_count": null,
   "id": "bd8bb9be",
   "metadata": {},
   "outputs": [],
   "source": [
    "test_pred = test.drop(['Distance_mi'],axis=1)\n",
    "preds_Distance = aml_Distance.predict(test_pred)"
   ]
  },
  {
   "cell_type": "code",
   "execution_count": null,
   "id": "2114e0aa",
   "metadata": {},
   "outputs": [],
   "source": [
    "y_true=test['Distance_mi'].as_data_frame()\n",
    "y_pred=preds_Distance.as_data_frame()\n",
    "print(\"MSE\",mean_squared_error(y_true,y_pred['predict'].tolist()))\n",
    "print(\"R2_Score\",r2_score(y_true,y_pred))"
   ]
  },
  {
   "cell_type": "code",
   "execution_count": null,
   "id": "1332e75f",
   "metadata": {},
   "outputs": [],
   "source": [
    "\n",
    "plt.figure(figsize=(10,5))\n",
    "plt.xlabel('Pressure_in')\n",
    "plt.ylabel('Distance_mi')\n",
    "sns.scatterplot(x=df['Pressure_in'],y=df['Distance_mi'])\n",
    "plt.show()\n"
   ]
  },
  {
   "cell_type": "code",
   "execution_count": null,
   "id": "c991d7d6",
   "metadata": {},
   "outputs": [],
   "source": [
    "\n",
    "plt.figure(figsize=(10,5))\n",
    "plt.xlabel('Wind_Speed_mph')\n",
    "plt.ylabel('Distance_mi')\n",
    "sns.scatterplot(x=df['Wind_Speed_mph'],y=df['Distance_mi'])\n",
    "plt.show()\n"
   ]
  },
  {
   "cell_type": "code",
   "execution_count": null,
   "id": "02970c50",
   "metadata": {},
   "outputs": [],
   "source": [
    "plt.figure(figsize=(10,5))\n",
    "plt.xlabel('Visibiliy_mi')\n",
    "plt.ylabel('Distance_mi')\n",
    "sns.scatterplot(x=df['Visibility_mi'],y=df['Distance_mi'])\n",
    "plt.show()\n"
   ]
  },
  {
   "cell_type": "code",
   "execution_count": null,
   "id": "b28d9102",
   "metadata": {
    "scrolled": true
   },
   "outputs": [],
   "source": [
    "plt.figure(figsize=(10,5))\n",
    "plt.xlabel('Junction')\n",
    "plt.ylabel('Distance_mi')\n",
    "sns.scatterplot(x=df['Junction'],y=df['Distance_mi'])\n",
    "plt.show()\n"
   ]
  }
 ],
 "metadata": {
  "kernelspec": {
   "display_name": "Python 3 (ipykernel)",
   "language": "python",
   "name": "python3"
  },
  "language_info": {
   "codemirror_mode": {
    "name": "ipython",
    "version": 3
   },
   "file_extension": ".py",
   "mimetype": "text/x-python",
   "name": "python",
   "nbconvert_exporter": "python",
   "pygments_lexer": "ipython3",
   "version": "3.9.7"
  }
 },
 "nbformat": 4,
 "nbformat_minor": 5
}
